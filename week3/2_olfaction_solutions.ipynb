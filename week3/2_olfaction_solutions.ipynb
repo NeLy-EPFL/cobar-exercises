{
 "cells": [
  {
   "cell_type": "markdown",
   "metadata": {},
   "source": [
    "# Olfaction basics\n",
    "\n",
    "**Author:** Sibo Wang-Chen\n",
    "\n",
    "**Note:** The code presented in this notebook has been simplified and restructured for display in a notebook format. A more complete and better structured implementation can be found in the [examples folder of the FlyGym repository on GitHub](https://github.com/NeLy-EPFL/flygym/tree/main/flygym/examples/).\n",
    "\n",
    "**Summary:** In this tutorial, we will implement a simple controller for odor-guided taxis.\n",
    "\n",
    "The olfactory system in _Drosophila_ consists of specialized olfactory sensory neurons (OSNs) located in the antennae and maxillary palps. These detect specific odorant molecules and convey this information to the brain’s antennal lobe, where their signals are further processed. This is shown in the figure below (left, source: [Martin et al, 2013](https://doi.org/10.1002/ar.22747)) We emulated peripheral olfaction by attaching virtual odor sensors to the antennae and maxillary palps of our biomechanical model, as shown in the figure (right). The user has the option of configuring additional sensors at more precise locations on these olfactory organs. These virtual sensors can detect odor intensities across a multi-dimensional space that can be thought of as representing, for example, the concentrations of monomolecular chemicals sensed by OSNs in the antennae, or the intensities of composite odors co-activating numerous projection neurons in the antennal lobe.\n",
    "\n",
    "<img src=\"https://github.com/NeLy-EPFL/_media/blob/main/flygym/olfaction_basics/olfaction.png?raw=true\" alt=\"rule_based\" width=\"700\"/>"
   ]
  },
  {
   "cell_type": "markdown",
   "metadata": {},
   "source": [
    "## Odor arena\n",
    "\n",
    "To demonstrate odor sensing, let's create an environment with one attractive odor source and two aversive odor sources. The dimension of this odor space is 2 (attractive, aversive) despite the number of odor sources being 3. The odor sources share a peak intensity of 1. We will color the attractive odor source orange and the aversive odor sources blue."
   ]
  },
  {
   "cell_type": "code",
   "execution_count": 1,
   "metadata": {},
   "outputs": [],
   "source": [
    "import numpy as np\n",
    "\n",
    "# Odor source: array of shape (num_odor_sources, 3) - xyz coords of odor sources\n",
    "odor_source = np.array([[24, 0, 1.5], [8, -4, 1.5], [16, 4, 1.5]])\n",
    "\n",
    "# Peak intensities: array of shape (num_odor_sources, odor_dimensions)\n",
    "# For each odor source, if the intensity is (x, 0) then the odor is in the 1st dimension\n",
    "# (in this case attractive). If it's (0, x) then it's in the 2nd dimension (in this case\n",
    "# aversive)\n",
    "peak_odor_intensity = np.array([[1, 0], [0, 1], [0, 1]])\n",
    "\n",
    "# Marker colors: array of shape (num_odor_sources, 4) - RGBA values for each marker,\n",
    "# normalized to [0, 1]\n",
    "marker_colors = [[255, 127, 14], [31, 119, 180], [31, 119, 180]]\n",
    "marker_colors = np.array([[*np.array(color) / 255, 1] for color in marker_colors])\n",
    "\n",
    "odor_dimensions = len(peak_odor_intensity[0])"
   ]
  },
  {
   "cell_type": "markdown",
   "metadata": {},
   "source": [
    "Let's create the arena using these parameters. The detailed documentation of the `OdorArena` class can be found in the [API reference](https://neuromechfly.org/api_ref/arena.html#flygym.arena.OdorArena). Its implementation is beyond the scope of this tutorial but can be found [here](https://github.com/NeLy-EPFL/flygym/blob/main/flygym/arena/sensory_environment.py)."
   ]
  },
  {
   "cell_type": "code",
   "execution_count": 2,
   "metadata": {},
   "outputs": [],
   "source": [
    "from flygym.arena import OdorArena\n",
    "\n",
    "arena = OdorArena(\n",
    "    odor_source=odor_source,\n",
    "    peak_odor_intensity=peak_odor_intensity,\n",
    "    diffuse_func=lambda x: x**-2,\n",
    "    marker_colors=marker_colors,\n",
    "    marker_size=0.3,\n",
    ")"
   ]
  },
  {
   "cell_type": "markdown",
   "metadata": {},
   "source": [
    "Let’s place our fly in the arena. As before, we will run a few iterations to allow it to stand on the ground in a stable manner."
   ]
  },
  {
   "cell_type": "code",
   "execution_count": 3,
   "metadata": {},
   "outputs": [
    {
     "data": {
      "image/png": "[encoded data removed]",
      "text/plain": [
       "<Figure size 500x400 with 1 Axes>"
      ]
     },
     "metadata": {},
     "output_type": "display_data"
    }
   ],
   "source": [
    "import matplotlib.pyplot as plt\n",
    "from flygym import Fly, Camera\n",
    "from flygym.examples.locomotion import HybridTurningController\n",
    "from pathlib import Path\n",
    "\n",
    "outputs_dir = Path(\"./outputs/olfaction_basics\")\n",
    "outputs_dir.mkdir(parents=True, exist_ok=True)\n",
    "\n",
    "contact_sensor_placements = [\n",
    "    f\"{leg}{segment}\"\n",
    "    for leg in [\"LF\", \"LM\", \"LH\", \"RF\", \"RM\", \"RH\"]\n",
    "    for segment in [\"Tibia\", \"Tarsus1\", \"Tarsus2\", \"Tarsus3\", \"Tarsus4\", \"Tarsus5\"]\n",
    "]\n",
    "\n",
    "fly = Fly(\n",
    "    spawn_pos=(0, 0, 0.2),\n",
    "    contact_sensor_placements=contact_sensor_placements,\n",
    "    enable_olfaction=True,\n",
    "    enable_adhesion=True,\n",
    "    draw_adhesion=False,\n",
    ")\n",
    "\n",
    "cam_params = {\n",
    "    \"mode\":\"fixed\",\n",
    "    \"pos\": (odor_source[:, 0].max() / 2, 0, 35),\n",
    "    \"euler\":(0, 0, 0), \"fovy\":45\n",
    "    }\n",
    "    \n",
    "cam = Camera(\n",
    "    attachment_point=arena.root_element.worldbody,\n",
    "    camera_name=\"birdeye_cam\",\n",
    "    timestamp_text = False,\n",
    "    camera_parameters=cam_params\n",
    ")\n",
    "\n",
    "sim = HybridTurningController(\n",
    "    fly=fly,\n",
    "    cameras=[cam],\n",
    "    arena=arena,\n",
    "    timestep=1e-4,\n",
    ")\n",
    "for i in range(500):\n",
    "    sim.step(np.zeros(2))\n",
    "    sim.render()\n",
    "fig, ax = plt.subplots(1, 1, figsize=(5, 4), tight_layout=True)\n",
    "ax.imshow(cam._frames[-1])\n",
    "ax.axis(\"off\")\n",
    "fig.savefig(outputs_dir / \"olfaction_env.png\")"
   ]
  },
  {
   "cell_type": "markdown",
   "metadata": {},
   "source": [
    "## Controller for odor taxis\n",
    "\n",
    "Let's design a simple hand-tuned controller for odor-guided taxis. We start by calculating the left-right asymmetry of the odor intensity $I$ for each odor $o$:\n",
    "\n",
    "$$\n",
    "\\Delta I_o = \\frac{I_\\text{left,o} - I_\\text{right,o}}{(I_\\text{left,o} + I_\\text{right,o}) / 2}\n",
    "$$\n",
    "\n",
    "Then, we multiply $\\Delta I_o$ by a gain $\\gamma_o$ for each odor dimension and take the sum $s$. Attractive and aversive odors will have different signs in their gains.\n",
    "\n",
    "$$\n",
    "s = \\sum_{o} \\gamma_o \\Delta I_o\n",
    "$$\n",
    "\n",
    "We transform $s$ nonlinearly to avoid overly drastic turns when the asymmetry is subtle and to crop it within the range [0, 1). This gives us a turning bias $b$:\n",
    "\n",
    "$$\n",
    "b = \\tanh(s^2)\n",
    "$$\n",
    "\n",
    "Finally, we modulate the descending signal $\\delta$ based on $b$ and the sign of $s$:\n",
    "\n",
    "$$\n",
    "\\delta_\\text{left} = \n",
    "    \\begin{cases}\n",
    "    \\delta_\\text{max} & \\text{if } s>0\\\\\n",
    "    \\delta_\\text{max} - b(\\delta_\\text{max} - \\delta_\\text{min})  & \\text{otherwise}\n",
    "    \\end{cases}\n",
    "    \\qquad\n",
    "    \\delta_\\text{right} = \n",
    "    \\begin{cases}\n",
    "    \\delta_\\text{max} - b(\\delta_\\text{max} - \\delta_\\text{min}) & \\text{if } s>0\\\\\n",
    "    \\delta_\\text{max}  & \\text{otherwise}\n",
    "    \\end{cases}\n",
    "$$\n",
    "\n",
    "where, $\\delta_\\text{min}$, $\\delta_\\text{max}$ define the range of the descending signal. Here, we will use the following parameters:\n",
    "\n",
    "- $\\gamma_\\text{attractive} = -500$ (negative ipsilateral gain leads to positive taxis)\n",
    "- $\\gamma_\\text{aversive} = 80$ (positive ipsilateral gain leads to negative taxis)\n",
    "- $\\delta_\\text{min} = 0.2$\n",
    "- $\\delta_\\text{max} = 1$\n",
    "\n",
    "As before, we will recalculate the steering signal every 0.05 seconds. Let's implement this in Python:"
   ]
  },
  {
   "cell_type": "code",
   "execution_count": 4,
   "metadata": {},
   "outputs": [
    {
     "name": "stderr",
     "output_type": "stream",
     "text": [
      " 51%|█████     | 51/100 [00:38<00:37,  1.32it/s]\n"
     ]
    }
   ],
   "source": [
    "from tqdm import trange\n",
    "\n",
    "attractive_gain = -500\n",
    "aversive_gain = 80\n",
    "decision_interval = 0.05\n",
    "run_time = 5\n",
    "num_decision_steps = int(run_time / decision_interval)\n",
    "physics_steps_per_decision_step = int(decision_interval / sim.timestep)\n",
    "\n",
    "obs_hist = []\n",
    "odor_history = []\n",
    "obs, _ = sim.reset()\n",
    "for i in trange(num_decision_steps):\n",
    "    attractive_intensities = np.average(\n",
    "        obs[\"odor_intensity\"][0, :].reshape(2, 2), axis=0, weights=[9, 1]\n",
    "    )\n",
    "    aversive_intensities = np.average(\n",
    "        obs[\"odor_intensity\"][1, :].reshape(2, 2), axis=0, weights=[10, 0]\n",
    "    )\n",
    "    attractive_bias = (\n",
    "        attractive_gain\n",
    "        * (attractive_intensities[0] - attractive_intensities[1])\n",
    "        / attractive_intensities.mean()\n",
    "    )\n",
    "    aversive_bias = (\n",
    "        aversive_gain\n",
    "        * (aversive_intensities[0] - aversive_intensities[1])\n",
    "        / aversive_intensities.mean()\n",
    "    )\n",
    "    effective_bias_smooth = aversive_bias + attractive_bias\n",
    "    effective_bias_norm = np.tanh(effective_bias_smooth**2) * np.sign(effective_bias_smooth)\n",
    "    assert np.sign(effective_bias_norm) == np.sign(effective_bias_smooth)\n",
    "\n",
    "    control_signal = np.ones((2,))\n",
    "    side_to_modulate = int(effective_bias_norm > 0)\n",
    "    modulation_amount = np.abs(effective_bias_norm) * 0.8\n",
    "    control_signal[side_to_modulate] -= modulation_amount\n",
    "\n",
    "    for j in range(physics_steps_per_decision_step):\n",
    "        obs, _, _, _, _ = sim.step(control_signal)\n",
    "        rendered_img = sim.render()\n",
    "        if rendered_img is not None:\n",
    "            # record odor intensity too for video\n",
    "            odor_history.append(obs[\"odor_intensity\"])\n",
    "        obs_hist.append(obs)\n",
    "\n",
    "    # Stop when the fly is within 2mm of the attractive odor source\n",
    "    if np.linalg.norm(obs[\"fly\"][0, :2] - odor_source[0, :2]) < 2:\n",
    "        break"
   ]
  },
  {
   "cell_type": "markdown",
   "metadata": {},
   "source": [
    "We can visualize the fly trajectory:"
   ]
  },
  {
   "cell_type": "code",
   "execution_count": 5,
   "metadata": {},
   "outputs": [
    {
     "data": {
      "image/png": "[encoded data removed]",
      "text/plain": [
       "<Figure size 500x400 with 1 Axes>"
      ]
     },
     "metadata": {},
     "output_type": "display_data"
    }
   ],
   "source": [
    "fly_pos_hist = np.array([obs[\"fly\"][0, :2] for obs in obs_hist])\n",
    "fig, ax = plt.subplots(1, 1, figsize=(5, 4), tight_layout=True)\n",
    "ax.scatter(\n",
    "    [odor_source[0, 0]],\n",
    "    [odor_source[0, 1]],\n",
    "    marker=\"o\",\n",
    "    color=\"tab:orange\",\n",
    "    s=50,\n",
    "    label=\"Attractive\",\n",
    ")\n",
    "ax.scatter(\n",
    "    [odor_source[1, 0]],\n",
    "    [odor_source[1, 1]],\n",
    "    marker=\"o\",\n",
    "    color=\"tab:blue\",\n",
    "    s=50,\n",
    "    label=\"Aversive\",\n",
    ")\n",
    "ax.scatter([odor_source[2, 0]], [odor_source[2, 1]], marker=\"o\", color=\"tab:blue\", s=50)\n",
    "ax.plot(fly_pos_hist[:, 0], fly_pos_hist[:, 1], color=\"k\", label=\"Fly trajectory\")\n",
    "ax.set_aspect(\"equal\")\n",
    "ax.set_xlim(-1, 25)\n",
    "ax.set_ylim(-5, 5)\n",
    "ax.set_xlabel(\"x (mm)\")\n",
    "ax.set_ylabel(\"y (mm)\")\n",
    "ax.legend(ncols=3, loc=\"lower center\", bbox_to_anchor=(0.5, -0.6))\n",
    "fig.savefig(outputs_dir / \"odor_taxis_trajectory.png\")"
   ]
  },
  {
   "cell_type": "markdown",
   "metadata": {},
   "source": [
    "We can also generate the video:"
   ]
  },
  {
   "cell_type": "code",
   "execution_count": 6,
   "metadata": {},
   "outputs": [
    {
     "data": {
      "text/html": [
       "<video src=\"outputs/olfaction_basics/odor_taxis.mp4\" controls  >\n",
       "      Your browser does not support the <code>video</code> element.\n",
       "    </video>"
      ],
      "text/plain": [
       "<IPython.core.display.Video object>"
      ]
     },
     "execution_count": 6,
     "metadata": {},
     "output_type": "execute_result"
    }
   ],
   "source": [
    "from IPython.display import Video\n",
    "\n",
    "cam.save_video(outputs_dir / \"odor_taxis.mp4\")\n",
    "Video(outputs_dir / \"odor_taxis.mp4\")"
   ]
  },
  {
   "cell_type": "markdown",
   "metadata": {},
   "source": [
    "# Exercise 3: Odor from behind\n",
    "In this exercise, let's simulate a scenario in which an attractive odor source is placed directly behind the fly. How do you expect the fly to behave in this case?"
   ]
  },
  {
   "cell_type": "code",
   "execution_count": null,
   "metadata": {},
   "outputs": [
    {
     "name": "stderr",
     "output_type": "stream",
     "text": [
      " 37%|███▋      | 37/100 [00:28<00:48,  1.31it/s]\n"
     ]
    },
    {
     "data": {
      "text/html": [
       "<video src=\"outputs/olfaction_basics/behind.mp4\" controls  >\n",
       "      Your browser does not support the <code>video</code> element.\n",
       "    </video>"
      ],
      "text/plain": [
       "<IPython.core.display.Video object>"
      ]
     },
     "execution_count": 7,
     "metadata": {},
     "output_type": "execute_result"
    }
   ],
   "source": [
    "decision_interval = 0.05\n",
    "run_time = 5\n",
    "num_decision_steps = int(run_time / decision_interval)\n",
    "physics_steps_per_decision_step = int(decision_interval / sim.timestep)\n",
    "\n",
    "#################################################################\n",
    "# TODO: Create an odor arena with a single attractive odor source\n",
    "# placed 3mm behind the fly\n",
    "gains = np.array([-500, 80])\n",
    "odor_source = np.array([[-3, 0, 1.5]])\n",
    "\n",
    "arena = OdorArena(\n",
    "    odor_source=odor_source,\n",
    "    peak_odor_intensity=[[1, 0]],\n",
    "    diffuse_func=lambda x: x**-2,\n",
    "    marker_colors=marker_colors,\n",
    "    marker_size=0.3,\n",
    ")\n",
    "#################################################################\n",
    "\n",
    "fly = Fly(\n",
    "    spawn_pos=(0, 0, 0.2),\n",
    "    contact_sensor_placements=contact_sensor_placements,\n",
    "    enable_olfaction=True,\n",
    "    enable_adhesion=True,\n",
    "    draw_adhesion=False,\n",
    ")\n",
    "\n",
    "cam_params = {\n",
    "    \"mode\":\"fixed\",\n",
    "    \"pos\": (odor_source[:, 0].max() / 2, 0, 35),\n",
    "    \"euler\":(0, 0, 0), \"fovy\":45\n",
    "    }\n",
    "    \n",
    "cam = Camera(\n",
    "    attachment_point=arena.root_element.worldbody,\n",
    "    camera_name=\"birdeye_cam\",\n",
    "    timestamp_text = False,\n",
    "    camera_parameters=cam_params\n",
    ")\n",
    "\n",
    "sim = HybridTurningController(\n",
    "    fly=fly,\n",
    "    cameras=[cam],\n",
    "    arena=arena,\n",
    "    timestep=1e-4,\n",
    ")\n",
    "\n",
    "attractive_gain = -500\n",
    "aversive_gain = 80\n",
    "decision_interval = 0.05\n",
    "run_time = 5\n",
    "num_decision_steps = int(run_time / decision_interval)\n",
    "physics_steps_per_decision_step = int(decision_interval / sim.timestep)\n",
    "\n",
    "obs, _ = sim.reset()\n",
    "\n",
    "for i in trange(num_decision_steps):\n",
    "    attractive_intensities = np.average(\n",
    "        obs[\"odor_intensity\"][0, :].reshape(2, 2), axis=0, weights=[9, 1]\n",
    "    )\n",
    "    attractive_bias = (\n",
    "        attractive_gain\n",
    "        * (attractive_intensities[0] - attractive_intensities[1])\n",
    "        / attractive_intensities.mean()\n",
    "    )\n",
    "    effective_bias_smooth = attractive_bias\n",
    "    effective_bias_norm = np.tanh(effective_bias_smooth**2) * np.sign(effective_bias_smooth)\n",
    "    assert np.sign(effective_bias_norm) == np.sign(effective_bias_smooth)\n",
    "\n",
    "    control_signal = np.ones((2,))\n",
    "    side_to_modulate = int(effective_bias_norm > 0)\n",
    "    modulation_amount = np.abs(effective_bias_norm) * 0.8\n",
    "    control_signal[side_to_modulate] -= modulation_amount\n",
    "\n",
    "    for j in range(physics_steps_per_decision_step):\n",
    "        obs, _, _, _, _ = sim.step(control_signal)\n",
    "        sim.render()\n",
    "\n",
    "    # Stop when the fly is within 2 mm of the attractive odor source\n",
    "    if np.linalg.norm(obs[\"fly\"][0, :2] - odor_source[0, :2]) < 2:\n",
    "        break\n",
    "\n",
    "cam.save_video(outputs_dir / \"behind.mp4\")\n",
    "Video(outputs_dir / \"behind.mp4\")"
   ]
  },
  {
   "cell_type": "markdown",
   "metadata": {},
   "source": [
    "# Exercise 4: Attraction vs aversion\n",
    "Let's consider the case a fly is attracted to an object placed at (4, 2, 1.5):"
   ]
  },
  {
   "cell_type": "code",
   "execution_count": 8,
   "metadata": {},
   "outputs": [
    {
     "name": "stderr",
     "output_type": "stream",
     "text": [
      " 35%|███▌      | 7/20 [00:06<00:11,  1.14it/s]\n"
     ]
    },
    {
     "data": {
      "text/html": [
       "<video src=\"outputs/olfaction_basics/attraction.mp4\" controls  >\n",
       "      Your browser does not support the <code>video</code> element.\n",
       "    </video>"
      ],
      "text/plain": [
       "<IPython.core.display.Video object>"
      ]
     },
     "execution_count": 8,
     "metadata": {},
     "output_type": "execute_result"
    },
    {
     "data": {
      "image/png": "[encoded data removed]",
      "text/plain": [
       "<Figure size 500x400 with 1 Axes>"
      ]
     },
     "metadata": {},
     "output_type": "display_data"
    }
   ],
   "source": [
    "def run_simulation(\n",
    "    odor_source,\n",
    "    marker_colors,\n",
    "    odor_gains,\n",
    "    peak_odor_intensity,\n",
    "    timestep=1e-4,\n",
    "    run_time=1,\n",
    "    decision_interval=0.05,\n",
    "    fly_class=Fly,\n",
    "):\n",
    "    num_decision_steps = int(run_time / decision_interval)\n",
    "    physics_steps_per_decision_step = int(decision_interval / timestep)\n",
    "    assert all(len(odor_gains) == len(i) for i in peak_odor_intensity)\n",
    "    attractive_gain, aversive_gain = odor_gains\n",
    "\n",
    "    arena = OdorArena(\n",
    "        odor_source=odor_source,\n",
    "        peak_odor_intensity=peak_odor_intensity,\n",
    "        diffuse_func=lambda x: x**-2,\n",
    "        marker_colors=marker_colors,\n",
    "        marker_size=0.3,\n",
    "    )\n",
    "\n",
    "    fly = fly_class(\n",
    "        spawn_pos=(0, 0, 0.2),\n",
    "        contact_sensor_placements=contact_sensor_placements,\n",
    "        enable_olfaction=True,\n",
    "        enable_adhesion=True,\n",
    "        draw_adhesion=False,\n",
    "    )\n",
    "\n",
    "    cam_params = {\n",
    "        \"mode\":\"fixed\",\n",
    "        \"pos\": (odor_source[:, 0].max() / 2, 0, 35),\n",
    "        \"euler\":(0, 0, 0), \"fovy\":45\n",
    "        }\n",
    "        \n",
    "    cam = Camera(\n",
    "        attachment_point=arena.root_element.worldbody,\n",
    "        camera_name=\"birdeye_cam\",\n",
    "        timestamp_text = False,\n",
    "        camera_parameters=cam_params\n",
    "    )\n",
    "\n",
    "    sim = HybridTurningController(\n",
    "        fly=fly,\n",
    "        cameras=[cam],\n",
    "        arena=arena,\n",
    "        timestep=1e-4,\n",
    "    )\n",
    "\n",
    "    obs_hist = []\n",
    "    obs, _ = sim.reset()\n",
    "    for i in trange(num_decision_steps):\n",
    "        attractive_intensities = np.average(\n",
    "            obs[\"odor_intensity\"][0, :].reshape(2, 2), axis=0, weights=[9, 1]\n",
    "        )\n",
    "        aversive_intensities = np.average(\n",
    "            obs[\"odor_intensity\"][1, :].reshape(2, 2), axis=0, weights=[10, 0]\n",
    "        )\n",
    "        attractive_bias = (\n",
    "            attractive_gain\n",
    "            * (attractive_intensities[0] - attractive_intensities[1])\n",
    "            / np.maximum(attractive_intensities.mean(), 1e-6)\n",
    "        )\n",
    "        aversive_bias = (\n",
    "            aversive_gain\n",
    "            * (aversive_intensities[0] - aversive_intensities[1])\n",
    "            / np.maximum(aversive_intensities.mean(), 1e-6)\n",
    "        )\n",
    "        effective_bias = aversive_bias + attractive_bias\n",
    "        effective_bias_norm = np.tanh(effective_bias**2) * np.sign(effective_bias)\n",
    "        assert np.sign(effective_bias_norm) == np.sign(effective_bias)\n",
    "\n",
    "        control_signal = np.ones((2,))\n",
    "        side_to_modulate = int(effective_bias_norm > 0)\n",
    "        modulation_amount = np.abs(effective_bias_norm) * 0.8\n",
    "        control_signal[side_to_modulate] -= modulation_amount\n",
    "\n",
    "        for _ in range(physics_steps_per_decision_step):\n",
    "            obs, _, _, _, _ = sim.step(control_signal)\n",
    "            sim.render()\n",
    "            obs_hist.append(obs)\n",
    "\n",
    "        # Stop when the fly is within 2mm of the attractive odor source\n",
    "        if np.linalg.norm(obs[\"fly\"][0, :2] - odor_source[0, :2]) < 2:\n",
    "            break\n",
    "\n",
    "    return obs_hist, sim\n",
    "\n",
    "def plot_trajectory(obs_hist, odor_source, marker_colors):\n",
    "    fly_pos_hist = np.array([obs[\"fly\"][0, :2] for obs in obs_hist])\n",
    "    fig, ax = plt.subplots(1, 1, figsize=(5, 4), tight_layout=True)\n",
    "\n",
    "    for (x, y), color in zip(odor_source[:, :2], marker_colors):\n",
    "        ax.scatter(x, y, marker=\"o\", color=color, s=50)\n",
    "\n",
    "    ax.plot(fly_pos_hist[:, 0], fly_pos_hist[:, 1], color=\"k\", label=\"Fly trajectory\")\n",
    "    ax.set_aspect(\"equal\")\n",
    "    ax.set_xlabel(\"x (mm)\")\n",
    "    ax.set_ylabel(\"y (mm)\")\n",
    "\n",
    "\n",
    "odor_source = np.array([[4, 2, 1.5]])\n",
    "marker_colors = np.array([[255, 127, 14, 255]]) / 255\n",
    "\n",
    "obs_hist, sim = run_simulation(\n",
    "    odor_source=odor_source,\n",
    "    marker_colors=marker_colors,\n",
    "    peak_odor_intensity=np.array([[1, 0]]),\n",
    "    odor_gains=np.array([-250, 250]),\n",
    ")\n",
    "sim.cameras[0].save_video(outputs_dir / \"attraction.mp4\")\n",
    "plot_trajectory(obs_hist, odor_source, marker_colors)\n",
    "plt.title(\"Attraction\")\n",
    "Video(outputs_dir / \"attraction.mp4\")"
   ]
  },
  {
   "cell_type": "code",
   "execution_count": 9,
   "metadata": {},
   "outputs": [
    {
     "name": "stderr",
     "output_type": "stream",
     "text": [
      "100%|██████████| 20/20 [00:15<00:00,  1.33it/s]\n",
      "100%|██████████| 20/20 [00:15<00:00,  1.32it/s]\n"
     ]
    },
    {
     "data": {
      "text/html": [
       "<video src=\"outputs/olfaction_basics/aversion2.mp4\" controls  >\n",
       "      Your browser does not support the <code>video</code> element.\n",
       "    </video>"
      ],
      "text/plain": [
       "<IPython.core.display.Video object>"
      ]
     },
     "execution_count": 9,
     "metadata": {},
     "output_type": "execute_result"
    },
    {
     "data": {
      "image/png": "[encoded data removed]",
      "text/plain": [
       "<Figure size 500x400 with 1 Axes>"
      ]
     },
     "metadata": {},
     "output_type": "display_data"
    },
    {
     "data": {
      "image/png": "[encoded data removed]",
      "text/plain": [
       "<Figure size 500x400 with 1 Axes>"
      ]
     },
     "metadata": {},
     "output_type": "display_data"
    }
   ],
   "source": [
    "######################################################################\n",
    "# TODO: Modify one parameter to make the fly avoid the odor source\n",
    "obs_hist, sim = run_simulation(\n",
    "    odor_source=odor_source,\n",
    "    marker_colors=marker_colors,\n",
    "    peak_odor_intensity=np.array([[0, 1]]), # [1, 0] -> [0, 1]\n",
    "    odor_gains=np.array([-250, 250]),\n",
    ")\n",
    "######################################################################\n",
    "sim.cameras[0].save_video(outputs_dir / \"aversion1.mp4\")\n",
    "plot_trajectory(obs_hist, odor_source, marker_colors)\n",
    "plt.title(\"Aversion 1\")\n",
    "\n",
    "######################################################################\n",
    "# TODO: Modify another parameter to make the fly avoid the odor source\n",
    "obs_hist, sim = run_simulation(\n",
    "    odor_source=odor_source,\n",
    "    marker_colors=marker_colors,\n",
    "    peak_odor_intensity=np.array([[1, 0]]),\n",
    "    odor_gains=np.array([250, -250]),   # [-250, 250] -> [250, -250]\n",
    ")\n",
    "######################################################################\n",
    "sim.cameras[0].save_video(outputs_dir / \"aversion2.mp4\")\n",
    "plot_trajectory(obs_hist, odor_source, marker_colors)\n",
    "plt.title(\"Aversion 2\")\n",
    "Video(outputs_dir / \"aversion2.mp4\")"
   ]
  },
  {
   "cell_type": "markdown",
   "metadata": {},
   "source": [
    "# Exercise 5: Noisy sensors\n",
    "Let's see what happens when the measurements of odor intensity are noisy:"
   ]
  },
  {
   "cell_type": "code",
   "execution_count": 10,
   "metadata": {},
   "outputs": [],
   "source": [
    "class NoisyFly(Fly):\n",
    "    def __init__(self, *args, **kwargs):\n",
    "        super().__init__(*args, **kwargs)\n",
    "        self.rng = np.random.RandomState(0)\n",
    "\n",
    "    def get_observation(self, *args, **kwargs):\n",
    "        obs = super().get_observation(*args, **kwargs)\n",
    "        # Inject multiplicative noise into the odor intensity\n",
    "        var = 5\n",
    "        obs[\"odor_intensity\"] *= self.rng.gamma(1 / var, var, obs[\"odor_intensity\"].shape)\n",
    "        return obs"
   ]
  },
  {
   "cell_type": "code",
   "execution_count": 11,
   "metadata": {},
   "outputs": [
    {
     "name": "stderr",
     "output_type": "stream",
     "text": [
      "100%|██████████| 40/40 [00:28<00:00,  1.38it/s]\n"
     ]
    },
    {
     "data": {
      "text/html": [
       "<video src=\"outputs/olfaction_basics/noisy.mp4\" controls  >\n",
       "      Your browser does not support the <code>video</code> element.\n",
       "    </video>"
      ],
      "text/plain": [
       "<IPython.core.display.Video object>"
      ]
     },
     "execution_count": 11,
     "metadata": {},
     "output_type": "execute_result"
    },
    {
     "data": {
      "image/png": "[encoded data removed]",
      "text/plain": [
       "<Figure size 500x400 with 1 Axes>"
      ]
     },
     "metadata": {},
     "output_type": "display_data"
    }
   ],
   "source": [
    "odor_source = np.array([[3, 4, 1.5]])\n",
    "marker_colors = np.array([[255, 127, 14, 255]]) / 255\n",
    "peak_odor_intensity = np.array([[1, 0]])\n",
    "obs_hist, sim = run_simulation(\n",
    "    odor_source=odor_source,\n",
    "    marker_colors=marker_colors,\n",
    "    peak_odor_intensity=np.array([[1, 0]]),\n",
    "    odor_gains=np.array([-250, 0]),\n",
    "    run_time=2,\n",
    "    fly_class=NoisyFly,\n",
    ")\n",
    "sim.cameras[0].save_video(outputs_dir / \"noisy.mp4\")\n",
    "plot_trajectory(obs_hist, odor_source, marker_colors)\n",
    "Video(outputs_dir / \"noisy.mp4\")"
   ]
  },
  {
   "cell_type": "markdown",
   "metadata": {},
   "source": [
    "Let's implement a new control algorithm to make the fly turn toward the odor source in the presence of noise:"
   ]
  },
  {
   "cell_type": "code",
   "execution_count": 12,
   "metadata": {},
   "outputs": [],
   "source": [
    "def run_simulation2(\n",
    "    odor_source,\n",
    "    marker_colors,\n",
    "    odor_gains,\n",
    "    peak_odor_intensity,\n",
    "    timestep=1e-4,\n",
    "    run_time=1,\n",
    "    fly_class=Fly,\n",
    "):\n",
    "    assert all(len(odor_gains) == len(i) for i in peak_odor_intensity)\n",
    "    attractive_gain, aversive_gain = odor_gains\n",
    "\n",
    "    arena = OdorArena(\n",
    "        odor_source=odor_source,\n",
    "        peak_odor_intensity=peak_odor_intensity,\n",
    "        diffuse_func=lambda x: x**-2,\n",
    "        marker_colors=marker_colors,\n",
    "        marker_size=0.3,\n",
    "    )\n",
    "\n",
    "    fly = fly_class(\n",
    "        spawn_pos=(0, 0, 0.2),\n",
    "        contact_sensor_placements=contact_sensor_placements,\n",
    "        enable_olfaction=True,\n",
    "        enable_adhesion=True,\n",
    "        draw_adhesion=False,\n",
    "    )\n",
    "\n",
    "    cam_params = {\n",
    "        \"mode\":\"fixed\",\n",
    "        \"pos\": (odor_source[:, 0].max() / 2, 0, 35),\n",
    "        \"euler\":(0, 0, 0), \"fovy\":45\n",
    "        }\n",
    "        \n",
    "    cam = Camera(\n",
    "        attachment_point=arena.root_element.worldbody,\n",
    "        camera_name=\"birdeye_cam\",\n",
    "        timestamp_text = False,\n",
    "        camera_parameters=cam_params\n",
    "    )\n",
    "\n",
    "    sim = HybridTurningController(\n",
    "        fly=fly,\n",
    "        cameras=[cam],\n",
    "        arena=arena,\n",
    "        timestep=1e-4,\n",
    "    )\n",
    "\n",
    "    effective_bias_smooth = 0\n",
    "\n",
    "    obs_hist = []\n",
    "    obs, _ = sim.reset()\n",
    "    for i in trange(int(run_time / timestep)):\n",
    "        attractive_intensities = np.average(\n",
    "            obs[\"odor_intensity\"][0, :].reshape(2, 2), axis=0, weights=[9, 1]\n",
    "        )\n",
    "        aversive_intensities = np.average(\n",
    "            obs[\"odor_intensity\"][1, :].reshape(2, 2), axis=0, weights=[10, 0]\n",
    "        )\n",
    "        attractive_bias = (\n",
    "            attractive_gain\n",
    "            * (attractive_intensities[0] - attractive_intensities[1])\n",
    "            / np.maximum(attractive_intensities.mean(), 1e-6)\n",
    "        )\n",
    "        aversive_bias = (\n",
    "            aversive_gain\n",
    "            * (aversive_intensities[0] - aversive_intensities[1])\n",
    "            / np.maximum(aversive_intensities.mean(), 1e-6)\n",
    "        )\n",
    "        effective_bias = aversive_bias + attractive_bias\n",
    "        \n",
    "        #################################################################\n",
    "        # TODO: Calculate the exponential moving average of s\n",
    "        # Refer to https://en.wikipedia.org/wiki/Exponential_smoothing\n",
    "        alpha = 0.001\n",
    "        effective_bias_smooth = (1 - alpha) * effective_bias_smooth + alpha * effective_bias\n",
    "        ################################################################\n",
    "\n",
    "        effective_bias_norm = np.tanh(effective_bias_smooth**2) * np.sign(effective_bias_smooth)\n",
    "        assert np.sign(effective_bias_norm) == np.sign(effective_bias_smooth)\n",
    "\n",
    "        control_signal = np.ones((2,))\n",
    "        side_to_modulate = int(effective_bias_norm > 0)\n",
    "        modulation_amount = np.abs(effective_bias_norm) * 0.8\n",
    "        control_signal[side_to_modulate] -= modulation_amount\n",
    "\n",
    "        obs, _, _, _, _ = sim.step(control_signal)\n",
    "        sim.render()\n",
    "        obs_hist.append(obs)\n",
    "\n",
    "        # Stop when the fly is within 2mm of the attractive odor source\n",
    "        if np.linalg.norm(obs[\"fly\"][0, :2] - odor_source[0, :2]) < 2:\n",
    "            break\n",
    "\n",
    "    return obs_hist, sim"
   ]
  },
  {
   "cell_type": "code",
   "execution_count": 13,
   "metadata": {},
   "outputs": [
    {
     "name": "stderr",
     "output_type": "stream",
     "text": [
      " 29%|██▉       | 5853/20000 [00:09<00:22, 637.89it/s]\n"
     ]
    },
    {
     "data": {
      "text/html": [
       "<video src=\"outputs/olfaction_basics/smoothed.mp4\" controls  >\n",
       "      Your browser does not support the <code>video</code> element.\n",
       "    </video>"
      ],
      "text/plain": [
       "<IPython.core.display.Video object>"
      ]
     },
     "execution_count": 13,
     "metadata": {},
     "output_type": "execute_result"
    },
    {
     "data": {
      "image/png": "[encoded data removed]",
      "text/plain": [
       "<Figure size 500x400 with 1 Axes>"
      ]
     },
     "metadata": {},
     "output_type": "display_data"
    }
   ],
   "source": [
    "odor_source = np.array([[3, 4, 1.5]])\n",
    "marker_colors = np.array([[255, 127, 14, 255]]) / 255\n",
    "peak_odor_intensity = np.array([[1, 0]])\n",
    "obs_hist, sim = run_simulation2(\n",
    "    odor_source=odor_source,\n",
    "    marker_colors=marker_colors,\n",
    "    peak_odor_intensity=np.array([[1, 0]]),\n",
    "    odor_gains=np.array([-250, 0]),\n",
    "    run_time=2,\n",
    "    fly_class=NoisyFly,\n",
    ")\n",
    "sim.cameras[0].save_video(outputs_dir / \"smoothed.mp4\")\n",
    "plot_trajectory(obs_hist, odor_source, marker_colors)\n",
    "Video(outputs_dir / \"smoothed.mp4\")"
   ]
  }
 ],
 "metadata": {
  "kernelspec": {
   "display_name": "flygym",
   "language": "python",
   "name": "python3"
  },
  "language_info": {
   "codemirror_mode": {
    "name": "ipython",
    "version": 3
   },
   "file_extension": ".py",
   "mimetype": "text/x-python",
   "name": "python",
   "nbconvert_exporter": "python",
   "pygments_lexer": "ipython3",
   "version": "3.12.9"
  }
 },
 "nbformat": 4,
 "nbformat_minor": 2
}
