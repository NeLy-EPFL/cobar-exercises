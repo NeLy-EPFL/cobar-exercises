{
 "cells": [
  {
   "cell_type": "markdown",
   "metadata": {},
   "source": [
    "# Vision basics\n",
    "\n",
    "**Author:** Sibo Wang-Chen\n",
    "\n",
    "**Note:** The code presented in this notebook has been simplified and restructured for display in a notebook format. A more complete and better structured implementation can be found in the [examples folder of the FlyGym repository on GitHub](https://github.com/NeLy-EPFL/flygym/tree/main/flygym/examples/).\n",
    "\n",
    "**Summary:** In this tutorial, we will build a simple model to control the fly to follow a moving sphere. By doing so, we will also demonstrate how one can create a custom arena.\n",
    "\n",
    "Animals typically navigate over rugged terrain to reach attractive objects (e.g. potential mates, food sources) and to avoid repulsive features (e.g. pheromones from predators) and obstacles. Animals use a hierarchical controller to achieve these goals: processing higher-order sensory signals, using them to select the next action, and translating these decisions into descending commands that drive lower-level motor systems. We aimed to simulate this sensorimotor hierarchy by adding vision and olfaction to NeuroMechFly."
   ]
  },
  {
   "cell_type": "markdown",
   "metadata": {},
   "source": [
    "## Retina simulation\n",
    "\n",
    "A fly’s compound eye consists of ∼700–750 individual units called ommatidia arranged in a hexagonal pattern (see the left panel of the figure below from the [droso4schools project](https://droso4schools.wordpress.com/l4-enzymes/#5); see also [this article](https://azretina.sites.arizona.edu/node/789) from the Arizona Retina Project). To emulate this, we attached a color camera to each of our model’s compound eyes (top right panel). We then transformed each camera image into 721 bins, representing ommatidia. Based on previous studies, we assume a 270° combined azimuth for the fly’s field of view, with a ∼17° binocular overlap. Visual sensitivity has evolved to highlight ethologically relevant color spectra at different locations in the environment. Here, as an initial step toward enabling this heterogeneity in our model, we implemented yellow- and pale-type ommatidia—sensitive to the green and blue channels of images rendered by the physics simulator—randomly assigned at a 7:3 ratio (as reported in [Rister et al, 2013](https://pubmed.ncbi.nlm.nih.gov/23293281/)). Users can substitute the green and blue channel values with the desired light intensities sensed by yellow- and pale-type ommatidia to achieve more biorealistic chromatic vision.\n",
    "\n",
    "<img src=\"https://github.com/NeLy-EPFL/_media/blob/main/flygym/vision_basics/vision.png?raw=true\" alt=\"rule_based\" width=\"800\"/>\n",
    "\n",
    "In NeuroMechFly, the main interface to interact with the fly is the [Retina class](https://neuromechfly.org/api_ref/vision.html#retina-simulation). It is embedded into the `NeuroMechFly` class as its `.retina` attribute if `enable_vision` is set to True in `NeuroMechFly.sim_params`. Here, let's reproduce the top right panel of the figure above by putting the fly into an arena with three pillars and simulating the fly's visual experience.\n",
    "\n",
    "To start, we do the necessary imports:"
   ]
  },
  {
   "cell_type": "code",
   "execution_count": null,
   "metadata": {
    "collapsed": false
   },
   "outputs": [],
   "source": [
    "import matplotlib.pyplot as plt\n",
    "import numpy as np\n",
    "from tqdm import trange\n",
    "from gymnasium.utils.env_checker import check_env\n",
    "\n",
    "from flygym import Fly, Camera\n",
    "from flygym.arena import FlatTerrain\n",
    "from flygym.examples.vision import ObstacleOdorArena\n",
    "from flygym.examples.locomotion import HybridTurningController\n",
    "\n",
    "plt.style.use('default')"
   ]
  },
  {
   "cell_type": "code",
   "execution_count": null,
   "metadata": {
    "collapsed": false
   },
   "outputs": [],
   "source": [
    "from pathlib import Path\n",
    "\n",
    "output_dir = Path(\"./outputs/vision_basics/\")\n",
    "output_dir.mkdir(exist_ok=True, parents=True)"
   ]
  },
  {
   "cell_type": "markdown",
   "metadata": {},
   "source": [
    "We have pre-implemented an `ObstacleOdorArena` class with visual obstacles and an odor source. The details of this class is beyond the scope of this tutorial, but you can refer to it on the [FlyGym github repository](https://github.com/NeLy-EPFL/flygym/blob/main/flygym/examples/obstacle_arena.py):"
   ]
  },
  {
   "cell_type": "code",
   "execution_count": null,
   "metadata": {},
   "outputs": [],
   "source": [
    "# We start by creating a simple arena\n",
    "flat_terrain_arena = FlatTerrain()\n",
    "\n",
    "# Then, we add visual and olfactory features on top of it\n",
    "arena = ObstacleOdorArena(\n",
    "    terrain=flat_terrain_arena,\n",
    "    obstacle_positions=np.array([(7.5, 0), (12.5, 5), (17.5, -5)]),\n",
    "    marker_size=0.5,\n",
    "    obstacle_colors=[(0.14, 0.14, 0.2, 1), (0.2, 0.8, 0.2, 1), (0.2, 0.2, 0.8, 1)],\n",
    ")"
   ]
  },
  {
   "cell_type": "markdown",
   "metadata": {},
   "source": [
    "Let's put the fly in it and simulate 500 timesteps so the fly can stand on the floor in a stable manner:"
   ]
  },
  {
   "cell_type": "code",
   "execution_count": null,
   "metadata": {},
   "outputs": [],
   "source": [
    "contact_sensor_placements = [\n",
    "    f\"{leg}{segment}\"\n",
    "    for leg in [\"LF\", \"LM\", \"LH\", \"RF\", \"RM\", \"RH\"]\n",
    "    for segment in [\"Tibia\", \"Tarsus1\", \"Tarsus2\", \"Tarsus3\", \"Tarsus4\", \"Tarsus5\"]\n",
    "]\n",
    "\n",
    "fly = Fly(\n",
    "    spawn_pos=(13, -5, 0.2),\n",
    "    spawn_orientation=(0, 0, np.deg2rad(70)),\n",
    "    contact_sensor_placements=contact_sensor_placements,\n",
    "    enable_vision=True,\n",
    "    render_raw_vision=True,\n",
    "    enable_olfaction=True,\n",
    ")\n",
    "\n",
    "cam_params = {\"mode\":\"fixed\", \"pos\": (13, -18, 9),\n",
    "    \"euler\":(np.deg2rad(65), 0, 0), \"fovy\":45\n",
    "}\n",
    "    \n",
    "cam = Camera(\n",
    "    attachment_point=arena.root_element.worldbody,\n",
    "    camera_name=\"birdeye_cam\",\n",
    "    camera_parameters=cam_params,\n",
    "    play_speed=0.2,\n",
    "    window_size=(800, 608),\n",
    "    fps=24,\n",
    ")\n",
    "\n",
    "sim = HybridTurningController(fly=fly, cameras=[cam], arena=arena)\n",
    "\n",
    "for i in range(500):\n",
    "    obs, reward, terminated, truncated, info = sim.step(np.zeros(2))\n",
    "    sim.render()\n",
    "\n",
    "fig, ax = plt.subplots(figsize=(4, 3), tight_layout=True)\n",
    "ax.imshow(cam._frames[-1])\n",
    "ax.axis(\"off\")\n",
    "fig.savefig(output_dir / \"vision_sim_env.png\")"
   ]
  },
  {
   "cell_type": "markdown",
   "metadata": {},
   "source": [
    "We can access the intensities sensed by the fly's ommatidia from the observation:"
   ]
  },
  {
   "cell_type": "code",
   "execution_count": null,
   "metadata": {},
   "outputs": [],
   "source": [
    "print(obs[\"vision\"])\n",
    "print(\"Shape:\", obs[\"vision\"].shape)\n",
    "print(\"Data type:\", obs[\"vision\"].dtype)"
   ]
  },
  {
   "cell_type": "markdown",
   "metadata": {},
   "source": [
    "This gives us a (2, 721, 2) array representing the light intensities sensed by the ommatidia. The values are normalized to [0, 1]. The first dimension is for the two eyes (left and right in that order). The second dimension is for the 721 ommatidia per eye. The third dimension is for the two color channels (yellow- and pale-type in that order). For each ommatidia, only one of the two numbers along the last dimension is nonzero. The yellow- and pale-type ommatidia are split at a 7:3 ratio. We can verify this below:"
   ]
  },
  {
   "cell_type": "code",
   "execution_count": null,
   "metadata": {},
   "outputs": [],
   "source": [
    "nonzero_idx = np.nonzero(obs[\"vision\"])\n",
    "unique_vals, val_counts = np.unique(nonzero_idx[2], return_counts=True)\n",
    "val_counts / val_counts.sum()"
   ]
  },
  {
   "cell_type": "markdown",
   "metadata": {},
   "source": [
    "But this is array representation is not good for visualization. We can use the `hex_pxls_to_human_readable` method of the retina to convert it into a normal [0, 256) 8-bit RGB image that can be plotted. We set `color_8bit` to True to process the 8-bit color representation more efficiently and to return the output as an integer ranged from 0 to 255. We will further take the grayscale image (disregard yellow- vs pale-type ommatidia) by taking the maximum along the last dimension, i.e. that of color channels."
   ]
  },
  {
   "cell_type": "code",
   "execution_count": null,
   "metadata": {},
   "outputs": [],
   "source": [
    "vision_left = fly.retina.hex_pxls_to_human_readable(\n",
    "    obs[\"vision\"][0, :, :], color_8bit=True\n",
    ")\n",
    "vision_left = vision_left.max(axis=-1)\n",
    "vision_right = fly.retina.hex_pxls_to_human_readable(\n",
    "    obs[\"vision\"][1, :, :], color_8bit=True\n",
    ")\n",
    "vision_right = vision_right.max(axis=-1)\n",
    "\n",
    "fig, axs = plt.subplots(1, 2, figsize=(6, 3), tight_layout=True)\n",
    "axs[0].imshow(vision_left, cmap=\"gray\", vmin=0, vmax=255)\n",
    "axs[0].axis(\"off\")\n",
    "axs[0].set_title(\"Left eye\")\n",
    "axs[1].imshow(vision_right, cmap=\"gray\", vmin=0, vmax=255)\n",
    "axs[1].axis(\"off\")\n",
    "axs[1].set_title(\"Right eye\")\n",
    "fig.savefig(output_dir / \"vision_sim.png\")"
   ]
  },
  {
   "cell_type": "markdown",
   "metadata": {},
   "source": [
    "Since `render_raw_vision` is set to True in the parameters, we can access the raw RGB vision through the `info` dictionary before pixels are binned into ommatidia: "
   ]
  },
  {
   "cell_type": "code",
   "execution_count": null,
   "metadata": {},
   "outputs": [],
   "source": [
    "fig, axs = plt.subplots(1, 2, figsize=(6, 3), tight_layout=True)\n",
    "axs[0].imshow(info[\"raw_vision\"][0, :, :, :].astype(np.uint8))\n",
    "axs[0].axis(\"off\")\n",
    "axs[0].set_title(\"Left eye\")\n",
    "axs[1].imshow(info[\"raw_vision\"][1, :, :, :].astype(np.uint8))\n",
    "axs[1].axis(\"off\")\n",
    "axs[1].set_title(\"Right eye\")\n",
    "fig.savefig(output_dir / \"vision_sim_raw.png\")"
   ]
  },
  {
   "cell_type": "markdown",
   "metadata": {},
   "source": [
    "We observe that the ommatidia covering the blue and the green pillars seem to have a bimodal distribution in intensity. This is because the ommatidia are stochastically split into yellow- and pale-types, and they have different sensitivities to different colors."
   ]
  },
  {
   "cell_type": "markdown",
   "metadata": {},
   "source": [
    "## A dynamic arena with a moving sphere\n",
    "\n",
    "The next step is to create a custom arena with a moving sphere. To do this, we will implement a `MovingObjArena` class that inherits from the `flygym.arena.BaseArena` class. A complete, functioning implementation of this class is provided under `flygym.examples.vision` on the [FlyGym repository](https://github.com/NeLy-EPFL/flygym/blob/main/flygym/examples/vision.py). We start by defining some attributes in its `__init__` method:\n",
    "\n",
    "```Python\n",
    "class MovingObjArena(BaseArena):\n",
    "    \"\"\"Flat terrain with a hovering moving object.\n",
    "\n",
    "    Attributes\n",
    "    ----------\n",
    "    arena : mjcf.RootElement\n",
    "        The arena object that the terrain is built on.\n",
    "    ball_pos : tuple[float,float,float]\n",
    "        The position of the floating object in the arena.\n",
    "\n",
    "    Parameters\n",
    "    ----------\n",
    "    size : tuple[int, int]\n",
    "        The size of the terrain in (x, y) dimensions.\n",
    "    friction : tuple[float, float, float]\n",
    "        Sliding, torsional, and rolling friction coefficients, by default\n",
    "        (1, 0.005, 0.0001)\n",
    "    obj_radius : float\n",
    "        Radius of the spherical floating object in mm.\n",
    "    obj_spawn_pos : tuple[float,float,float]\n",
    "        Initial position of the object, by default (0, 2, 1).\n",
    "    move_direction : str\n",
    "        Which way the ball moves toward first. Can be \"left\", \"right\", or\n",
    "        \"random\".\n",
    "    move_speed : float\n",
    "        Speed of the moving object.\n",
    "    \"\"\"\n",
    "\n",
    "    def __init__(\n",
    "        self,\n",
    "        size: tuple[float, float] = (300, 300),\n",
    "        friction: tuple[float, float, float] = (1, 0.005, 0.0001),\n",
    "        obj_radius: float = 1,\n",
    "        init_ball_pos: tuple[float, float] = (5, 0),\n",
    "        move_speed: float = 8,\n",
    "        move_direction: str = \"right\",\n",
    "    ):\n",
    "        super().__init__()\n",
    "\n",
    "        self.init_ball_pos = (*init_ball_pos, obj_radius)\n",
    "        self.ball_pos = np.array(self.init_ball_pos, dtype=\"float32\")\n",
    "        self.friction = friction\n",
    "        self.move_speed = move_speed\n",
    "        self.curr_time = 0\n",
    "        self.move_direction = move_direction\n",
    "        if move_direction == \"left\":\n",
    "            self.y_mult = 1\n",
    "        elif move_direction == \"right\":\n",
    "            self.y_mult = -1\n",
    "        elif move_direction == \"random\":\n",
    "            self.y_mult = np.random.choice([-1, 1])\n",
    "        else:\n",
    "            raise ValueError(\"Invalid move_direction\")\n",
    "    \n",
    "        ...\n",
    "```"
   ]
  },
  {
   "cell_type": "markdown",
   "metadata": {},
   "source": [
    "Next, we define a `root_element` attribute. The simulated world is represented as a tree of objects, each attached to a parent. For example, the eyes of the fly are attached to the head, which is in turn attached to the thorax — the base of the NeuroMechFly model. Note that this tree is merely a representation of objects and their relation to each other; there does not necessarily have to be a visual or anatomical link between the parent and child objects. For example, the base of the NeuroMechFly model — the thorax — is attached to the world, but the link between the thorax and the world is a free joint, meaning that it is free to move in all 6 degrees of freedom. The root element is the root of this tree.\n",
    "\n",
    "```Python\n",
    "        ...\n",
    "\n",
    "        self.root_element = mjcf.RootElement()\n",
    "\n",
    "        ...\n",
    "```"
   ]
  },
  {
   "cell_type": "markdown",
   "metadata": {},
   "source": [
    "Then, we will add the moving sphere. It will be attached to the root element:\n",
    "\n",
    "```Python\n",
    "        ...\n",
    "        \n",
    "        # Add ball\n",
    "        obstacle = self.root_element.asset.add(\n",
    "            \"material\", name=\"obstacle\", reflectance=0.1\n",
    "        )\n",
    "        self.root_element.worldbody.add(\n",
    "            \"body\", name=\"ball_mocap\", mocap=True, pos=self.ball_pos, gravcomp=1\n",
    "        )\n",
    "        self.object_body = self.root_element.find(\"body\", \"ball_mocap\")\n",
    "        self.object_body.add(\n",
    "            \"geom\",\n",
    "            name=\"ball\",\n",
    "            type=\"sphere\",\n",
    "            size=(obj_radius, obj_radius),\n",
    "            rgba=(0.0, 0.0, 0.0, 1),\n",
    "            material=obstacle,\n",
    "        )\n",
    "\n",
    "        ...\n",
    "```"
   ]
  },
  {
   "cell_type": "markdown",
   "metadata": {},
   "source": [
    "Next, let's define a `get_spawn_position` class. This is applies an offset to the user-defined fly spawn position. For example, if there is a stage in your arena that is 1 mm high, and you want to place the fly on this stage, then you might want to apply a transformation to the user-specified relative spawn position and return `rel_pos + np.array([0, 0, 1])` as the effective spawn position. In our case, we have a flat arena, so we will just return the spawn position and orientation as is:\n",
    "\n",
    "```Python\n",
    "    def get_spawn_position(self, rel_pos, rel_angle):\n",
    "        return rel_pos, rel_angle\n",
    "```"
   ]
  },
  {
   "cell_type": "markdown",
   "metadata": {},
   "source": [
    "The arena also has a `step` method. Usually, in static arenas, this is left empty. However, since we want the sphere to move in our arena, we need to implement this method so the sphere is moved appropriately every step of the simulation:\n",
    "\n",
    "```Python\n",
    "    def step(self, dt, physics):\n",
    "        heading_vec = np.array([1, 2 * np.cos(self.curr_time * 3) * self.y_mult])\n",
    "        heading_vec /= np.linalg.norm(heading_vec)\n",
    "        self.ball_pos[:2] += self.move_speed * heading_vec * dt\n",
    "        physics.bind(self.object_body).mocap_pos = self.ball_pos\n",
    "        self.curr_time += dt\n",
    "```"
   ]
  },
  {
   "cell_type": "markdown",
   "metadata": {},
   "source": [
    "Finally, let's implement a `reset` method:\n",
    "\n",
    "```Python\n",
    "    def reset(self, physics):\n",
    "        if self.move_direction == \"random\":\n",
    "            self.y_mult = np.random.choice([-1, 1])\n",
    "        self.curr_time = 0\n",
    "        self.ball_pos = np.array(self.init_ball_pos, dtype=\"float32\")\n",
    "        physics.bind(self.object_body).mocap_pos = self.ball_pos\n",
    "```"
   ]
  },
  {
   "cell_type": "markdown",
   "metadata": {},
   "source": [
    "## Visual feature preprocessing\n",
    "\n",
    "We will preprocess the visual feature by computing the x-y position of the object on the retina along with its size relative to the whole retinal image. We do this by applying binary thresholding to the image and calculating its size and center of mass. This is a good example to once again showcase the benefit of encapsulating preprogrammed logic into the Markov Decision Process (implemented as a Gym environment). If you haven't, read the tutorial on [building a turning controller](https://neuromechfly.org/tutorials/turning.html) to see how this is done.\n",
    "\n",
    "Recall that in the `HybridTurningController`, we implemented the purple arrow in the following figure, encapsulating the CPG network and the sensory feedback-based correction rules:\n",
    "\n",
    "<img src=\"https://github.com/NeLy-EPFL/_media/blob/main/flygym/mdp.png?raw=true\" alt=\"rule_based\" width=\"700\"/>\n",
    "\n",
    "Here, we will build yet another layer on top of `HybridTurningController`, implementing the aforementioned sensory preprocessing logic (cyan arrow) and encapsulating it inside the new MDP. As before, a complete, functioning implementation of this class is provided under `flygym.examples.vision` on the [FlyGym repository](https://github.com/NeLy-EPFL/flygym/blob/main/flygym/examples/vision.py)."
   ]
  },
  {
   "cell_type": "markdown",
   "metadata": {},
   "source": [
    "We start by defining an `__init__` method. This time, we will specify the threshold used in the binary thresholding step. Any pixel darker than this number will be considered part of the black sphere. We will also define a decision interval $\\tau$: the turning signal is recomputed every $\\tau$ seconds. We will compute the center of mass (COM) of all ommatidia so that later when we need to compute the COM of the object (a masked subset of pixels), we can simply take the average of the COMs of the selected pixels. Finally, we will override the definition of the observation space with a 6-dimensional one (x, y positions of the object per side, plus the relative size of the object per side).\n",
    "\n",
    "```Python\n",
    "class VisualTaxis(HybridTurningController):\n",
    "    def __init__(self, obj_threshold=0.15, decision_interval=0.05, **kwargs):\n",
    "        super().__init__(**kwargs)\n",
    "\n",
    "        self.obj_threshold = obj_threshold\n",
    "        self.decision_interval = decision_interval\n",
    "        self.num_substeps = int(self.decision_interval / self.timestep)\n",
    "        self.visual_inputs_hist = []\n",
    "\n",
    "        self.coms = np.empty((self.retina.num_ommatidia_per_eye, 2))\n",
    "        for i in range(self.retina.num_ommatidia_per_eye):\n",
    "            mask = self.retina.ommatidia_id_map == i + 1\n",
    "            self.coms[i, :] = np.argwhere(mask).mean(axis=0)\n",
    "        \n",
    "        self.observation_space = spaces.Box(0, 1, shape=(6,))\n",
    "```"
   ]
  },
  {
   "cell_type": "markdown",
   "metadata": {},
   "source": [
    "Next, let's implement the visual preprocessing logic discussed above:\n",
    "\n",
    "```Python\n",
    "    def _process_visual_observation(self, raw_obs):\n",
    "        features = np.zeros((2, 3))\n",
    "        for i, ommatidia_readings in enumerate(raw_obs[\"vision\"]):\n",
    "            is_obj = ommatidia_readings.max(axis=1) < self.obj_threshold\n",
    "            is_obj_coords = self.coms[is_obj]\n",
    "            if is_obj_coords.shape[0] > 0:\n",
    "                features[i, :2] = is_obj_coords.mean(axis=0)\n",
    "            features[i, 2] = is_obj_coords.shape[0]\n",
    "        features[:, 0] /= self.retina.nrows  # normalize y_center\n",
    "        features[:, 1] /= self.retina.ncols  # normalize x_center\n",
    "        features[:, 2] /= self.retina.num_ommatidia_per_eye  # normalize area\n",
    "        return features.ravel()\n",
    "```"
   ]
  },
  {
   "cell_type": "markdown",
   "metadata": {},
   "source": [
    "In the `step` method, we will replace the raw observation with the output of the `_process_visual_observation` method. We will also record the retina images every time the simulation renders a frame for the recorded video. This way, we can visualize the retina images along with the recorded video later:\n",
    "\n",
    "```Python\n",
    "    def step(self, control_signal):\n",
    "        for _ in range(self.num_substeps):\n",
    "            raw_obs, _, _, _, _ = super().step(control_signal)\n",
    "            render_res = super().render()\n",
    "            if render_res is not None:\n",
    "                # record visual inputs too because they will be played in the video\n",
    "                self.visual_inputs_hist.append(raw_obs[\"vision\"].copy())\n",
    "        visual_features = self._process_visual_observation(raw_obs)\n",
    "        return visual_features, 0, False, False, {}\n",
    "```"
   ]
  },
  {
   "cell_type": "markdown",
   "metadata": {},
   "source": [
    "Finally, we implement the `reset` method:\n",
    "\n",
    "```Python\n",
    "    def reset(self, seed=0, **kwargs):\n",
    "        raw_obs, _ = super().reset(seed=seed)\n",
    "        return self._process_visual_observation(raw_obs), {}\n",
    "```"
   ]
  },
  {
   "cell_type": "markdown",
   "metadata": {},
   "source": [
    "## Implementing a object tracking controller\n",
    "\n",
    "Now that we have implemented the arena and the new Gym environment, we just need to define the actual controller logic that outputs the 2D descending representation based on the extracted visual features. As a proof-of-concept, we have hand-tuned the following relationship:\n",
    "\n",
    "$$\n",
    "\\delta_i = \\begin{cases}\n",
    "\\min(\\max(k a_i + b, \\delta_\\text{min}), \\delta_\\text{max})   & \\text{if } A_i > A_\\text{thr} \\\\\n",
    "1  & \\text{otherwise}\n",
    "\\end{cases}\n",
    "$$\n",
    "\n",
    "where $\\delta_i$ is the descending modulation signal on side $i$; $a_i$ is the azimuth of the object expressed as the deviation from the anterior edge of the eye's field of view, normalized by the horizontal field of view of the retina; $A_i$ is the relative size of the object on the arena; $k=-3$, $b=1$ are parameters describing the response curve; $\\delta_\\text{min}=0.2$, $\\delta_\\text{max}=1$ describe the range of the descending signal; $A_\\text{thr} = 1\\%$ is the threshold below which the object is considered unseen from the eye.\n",
    "\n",
    "Before we implement this in the main simulation loop, let's instantiate our arena and Gym environment:"
   ]
  },
  {
   "cell_type": "code",
   "execution_count": null,
   "metadata": {},
   "outputs": [],
   "source": [
    "from flygym.examples.vision import MovingObjArena, VisualTaxis\n",
    "\n",
    "obj_threshold = 0.2\n",
    "decision_interval = 0.025\n",
    "contact_sensor_placements = [\n",
    "    f\"{leg}{segment}\"\n",
    "    for leg in [\"LF\", \"LM\", \"LH\", \"RF\", \"RM\", \"RH\"]\n",
    "    for segment in [\"Tibia\", \"Tarsus1\", \"Tarsus2\", \"Tarsus3\", \"Tarsus4\", \"Tarsus5\"]\n",
    "]\n",
    "arena = MovingObjArena()\n",
    "fly = Fly(\n",
    "    contact_sensor_placements=contact_sensor_placements,\n",
    "    enable_adhesion=True,\n",
    "    enable_vision=True,\n",
    ")\n",
    "cam = Camera(attachment_point=fly.model.worldbody,\n",
    "    camera_name=\"camera_top_zoomout\",\n",
    "    targeted_fly_names=[fly.name],\n",
    "    play_speed=0.5,\n",
    ")\n",
    "sim = VisualTaxis(\n",
    "    fly=fly,\n",
    "    camera=cam,\n",
    "    obj_threshold=obj_threshold,\n",
    "    decision_interval=decision_interval,\n",
    "    arena=arena,\n",
    "    intrinsic_freqs=np.ones(6) * 9,\n",
    ")"
   ]
  },
  {
   "cell_type": "markdown",
   "metadata": {},
   "source": [
    "As before, let's check if this environment complies with the Gym interface. Despite a few warnings on design choices, no errors should be raised."
   ]
  },
  {
   "cell_type": "code",
   "execution_count": null,
   "metadata": {},
   "outputs": [],
   "source": [
    "check_env(sim)"
   ]
  },
  {
   "cell_type": "markdown",
   "metadata": {},
   "source": [
    "Now, we implement the main simulation loop:"
   ]
  },
  {
   "cell_type": "code",
   "execution_count": null,
   "metadata": {},
   "outputs": [],
   "source": [
    "def calc_ipsilateral_speed(deviation, is_found):\n",
    "    if not is_found:\n",
    "        return 1.0\n",
    "    else:\n",
    "        return np.clip(1 - deviation * 3, 0.4, 1.2)\n",
    "\n",
    "\n",
    "num_substeps = int(decision_interval / sim.timestep)\n",
    "\n",
    "obs_hist = []\n",
    "deviations_hist = []\n",
    "control_signal_hist = []\n",
    "\n",
    "obs, _ = sim.reset()\n",
    "for i in trange(140):\n",
    "    left_deviation = 1 - obs[1]\n",
    "    right_deviation = obs[4]\n",
    "    left_found = obs[2] > 0.01\n",
    "    right_found = obs[5] > 0.01\n",
    "    if not left_found:\n",
    "        left_deviation = np.nan\n",
    "    if not right_found:\n",
    "        right_deviation = np.nan\n",
    "    control_signal = np.array(\n",
    "        [\n",
    "            calc_ipsilateral_speed(left_deviation, left_found),\n",
    "            calc_ipsilateral_speed(right_deviation, right_found),\n",
    "        ]\n",
    "    )\n",
    "\n",
    "    obs, _, _, _, _ = sim.step(control_signal)\n",
    "    obs_hist.append(obs)\n",
    "    deviations_hist.append([left_deviation, right_deviation])\n",
    "    control_signal_hist.append(control_signal)"
   ]
  },
  {
   "cell_type": "markdown",
   "metadata": {},
   "source": [
    "To inspect the recorded video:"
   ]
  },
  {
   "cell_type": "code",
   "execution_count": null,
   "metadata": {},
   "outputs": [],
   "source": [
    "from IPython.display import Video\n",
    "\n",
    "cam.save_video(output_dir / \"object_following.mp4\")\n",
    "Video(output_dir / \"object_following.mp4\")"
   ]
  },
  {
   "cell_type": "markdown",
   "metadata": {},
   "source": [
    "We can use the `save_video_with_vision_insets` utility function to regenerate this video, but with insets at the bottom illustrating the visual experience of the fly:"
   ]
  },
  {
   "cell_type": "code",
   "execution_count": null,
   "metadata": {},
   "outputs": [],
   "source": [
    "from flygym.vision.visualize import save_video_with_vision_insets\n",
    "\n",
    "save_video_with_vision_insets(\n",
    "    sim,\n",
    "    cam,\n",
    "    output_dir / \"object_following_with_retina_images.mp4\",\n",
    "    sim.visual_inputs_hist,\n",
    ")\n",
    "Video(output_dir / \"object_following_with_retina_images.mp4\")"
   ]
  },
  {
   "cell_type": "markdown",
   "metadata": {},
   "source": [
    "# Exercise 1: Optomotor response\n",
    "The [optomotor response](https://en.wikipedia.org/wiki/Optomotor_response) is an innate behavior commonly observed in insects and fish. It facilitates their movement in alignment with the direction of motion, allowing them to compensate for unforeseen disturbances such as gusts of air.\n",
    "\n",
    "In this exercise, we will simulate the process by which a fly determines the direction of moving gratings and adjusts its turning in response. Similar experiments has been done in previous studies, such as by [Strauss, Schuster, and Götz (1997)](https://doi.org/10.1242/jeb.200.9.1281)."
   ]
  },
  {
   "cell_type": "markdown",
   "metadata": {},
   "source": [
    "First, let's create an arena class for the grating stimulus. We can add black cylinders around the fly to simulate the visual experience of gratings, as shown in the schematic below:"
   ]
  },
  {
   "cell_type": "markdown",
   "metadata": {},
   "source": [
    "<img src=\"data:image/png;base64,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\" width=\"300\" height=\"300\"/>"
   ]
  },
  {
   "cell_type": "code",
   "execution_count": null,
   "metadata": {},
   "outputs": [],
   "source": [
    "class Gratings(FlatTerrain):\n",
    "    def __init__(\n",
    "        self,\n",
    "        n=8,\n",
    "        d=800,\n",
    "        h=4000,\n",
    "        ang_speed=1,\n",
    "        **kwargs,\n",
    "    ):\n",
    "        \"\"\"Creates a circular arena with n cylinders to simulate a grating pattern.\n",
    "\n",
    "        Parameters\n",
    "        ----------\n",
    "        n : int\n",
    "            Number of cylinders to create.\n",
    "        h : float\n",
    "            Height of the cylinders.\n",
    "        d : float\n",
    "            Distance from the center of the arena to the center of the cylinders.\n",
    "        ang_speed : float\n",
    "            Angular speed of the cylinders.\n",
    "        \"\"\"\n",
    "        super().__init__(ground_alpha=0, **kwargs)\n",
    "\n",
    "        self.h = h\n",
    "        self.ang_speed = ang_speed\n",
    "\n",
    "        self.cylinders = []\n",
    "        self.phase = 0\n",
    "        self.curr_time = 0\n",
    "\n",
    "        cylinder_material = self.root_element.asset.add(\n",
    "            \"material\", name=\"cylinder\", reflectance=0.1\n",
    "        )\n",
    "\n",
    "        #########################################################\n",
    "        # TODO: calculate the radius and the initial positions\n",
    "        # of the cylinders\n",
    "        # Hint: The diameters of the cylinders should be equal to\n",
    "        # the side length of a 2n-gon inscribed in a circle of\n",
    "        # radius d so that the white and black stripes occupy\n",
    "        # equal areas on the visual field.\n",
    "        init_pos = ...\n",
    "        r = ...\n",
    "        #########################################################\n",
    "\n",
    "        self.init_pos = init_pos\n",
    "\n",
    "        for i, pos in enumerate(self.init_pos):\n",
    "            ##################################################\n",
    "            # TODO: set the position of the cylinder\n",
    "            x = ...\n",
    "            y = ...\n",
    "            ##################################################\n",
    "\n",
    "            cylinder = self.root_element.worldbody.add(\n",
    "                \"body\",\n",
    "                name=f\"cylinder_{i}\",\n",
    "                mocap=True,\n",
    "                pos=(x, y, 0),\n",
    "            )\n",
    "\n",
    "            cylinder.add(\n",
    "                \"geom\",\n",
    "                type=\"cylinder\",\n",
    "                size=(r, self.h / 2),\n",
    "                rgba=(0, 0, 0, 1),\n",
    "                material=cylinder_material,\n",
    "            )\n",
    "\n",
    "            self.cylinders.append(cylinder)\n",
    "\n",
    "    def reset(self, physics):\n",
    "        \"\"\"Resets the position of the cylinders and the phase of the grating pattern.\"\"\"\n",
    "        self.phase = 0\n",
    "        self.curr_time = 0\n",
    "\n",
    "        for i, pos in enumerate(self.init_pos):\n",
    "            #####################################################\n",
    "            # TODO: reset the position of the cylinders\n",
    "            x = ...\n",
    "            y = ...\n",
    "            #####################################################\n",
    "            physics.bind(self.cylinders[i]).mocap_pos = (x, y, 0)\n",
    "\n",
    "    def step(self, dt, physics):\n",
    "        \"\"\"Steps the phase of the grating pattern and updates the position of the cylinders.\"\"\"\n",
    "\n",
    "        if self.curr_time % 1 < 1 / 2:\n",
    "            self.phase -= dt * self.ang_speed\n",
    "        else:\n",
    "            self.phase += dt * self.ang_speed\n",
    "\n",
    "        self.curr_time += dt\n",
    "\n",
    "        #########################################################\n",
    "        # TODO: update the position of the cylinders\n",
    "        new_pos = ...\n",
    "        \n",
    "        for i, pos in enumerate(new_pos):\n",
    "            x = ...\n",
    "            y = ...\n",
    "            physics.bind(self.cylinders[i]).mocap_pos = (x, y, 0)\n",
    "        #########################################################"
   ]
  },
  {
   "cell_type": "code",
   "execution_count": null,
   "metadata": {},
   "outputs": [],
   "source": [
    "from flygym import SingleFlySimulation\n",
    "\n",
    "arena = Gratings(h=4000, d=800)\n",
    "\n",
    "fly = Fly(\n",
    "    enable_vision=True,\n",
    ")\n",
    "\n",
    "cam_params = {\n",
    "    \"mode\":\"fixed\",\n",
    "    \"pos\": (0, 0, 20),\n",
    "    \"euler\":(0, 0, 0),\n",
    "    \"fovy\": 45,\n",
    "}\n",
    "    \n",
    "cam = Camera(\n",
    "    attachment_point=arena.root_element.worldbody,\n",
    "    camera_name=\"birdeye_cam\",\n",
    "    camera_parameters=cam_params,\n",
    "    window_size=(480, 480),\n",
    ")\n",
    "\n",
    "sim = SingleFlySimulation(\n",
    "    fly=fly,\n",
    "    cameras=[cam],\n",
    "    arena=arena,\n",
    ")\n",
    "\n",
    "obs, info = sim.reset()\n",
    "im = sim.render()[0]\n",
    "\n",
    "vision_left = fly.retina.hex_pxls_to_human_readable(obs[\"vision\"][0, :, :], color_8bit=True)\n",
    "vision_right = fly.retina.hex_pxls_to_human_readable(obs[\"vision\"][1, :, :], color_8bit=True)\n",
    "\n",
    "fig, axs = plt.subplots(1, 3, figsize=(6, 2), tight_layout=True)\n",
    "axs[0].imshow(im)\n",
    "axs[1].imshow(vision_left.max(-1), cmap=\"gray\", vmin=0, vmax=255)\n",
    "axs[2].imshow(vision_right.max(-1), cmap=\"gray\", vmin=0, vmax=255)\n",
    "\n",
    "for ax, title in zip(axs, [\"Bird-eye view\", \"Left eye\", \"Right eye\"]):\n",
    "    ax.set_title(title)\n",
    "    ax.axis(\"off\")"
   ]
  },
  {
   "cell_type": "markdown",
   "metadata": {},
   "source": [
    "To simplify array operations on visual inputs, we've defined a function designed to extract and reshape the central rectangular regions from hexagonal images."
   ]
  },
  {
   "cell_type": "code",
   "execution_count": null,
   "metadata": {},
   "outputs": [],
   "source": [
    "from utils import crop_hex_to_rect\n",
    "imgs = crop_hex_to_rect(obs[\"vision\"])\n",
    "\n",
    "fig, axs = plt.subplots(1, 2, figsize=(8, 2), tight_layout=True)\n",
    "axs[0].imshow(imgs[0], cmap=\"gray\", vmin=0, vmax=1)\n",
    "axs[0].set_title(\"Left eye\")\n",
    "axs[1].imshow(imgs[1], cmap=\"gray\", vmin=0, vmax=1)\n",
    "axs[1].set_title(\"Right eye\")\n",
    "for ax in axs:\n",
    "    ax.set_xticks([])\n",
    "    ax.set_yticks([])\n",
    "\n",
    "print(\"Shape:\", imgs.shape)"
   ]
  },
  {
   "cell_type": "markdown",
   "metadata": {},
   "source": [
    "<img src=\"data:image/png;base64,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\" width=\"150\">\n",
    "\n",
    "We will use the Hassenstein-Reichardt Correlator (HRC) model to detect motion from the two 1D arrays. In the schematic of the HRC above, $x_i$ and $x_{i+1}$ refer to the positions of two adjacent photoreceptors. Express the output of the HRC model using the previous light intensities $I(x_i,t-\\tau), I(x_{i+1},t-\\tau)$ and the current light intensities $I(x_i,t), I(x_{i+1},t)$.\n",
    "\n",
    "TODO: Your answer here"
   ]
  },
  {
   "cell_type": "markdown",
   "metadata": {},
   "source": [
    "Next, implement the following function:"
   ]
  },
  {
   "cell_type": "code",
   "execution_count": null,
   "metadata": {},
   "outputs": [],
   "source": [
    "from numpy.lib.stride_tricks import sliding_window_view\n",
    "\n",
    "\n",
    "def get_horizontal_hrc_responses(I_prev, I_curr):\n",
    "    \"\"\"\n",
    "    Calculate the horizontal optic flow using the HRC model.\n",
    "\n",
    "    Parameters\n",
    "    ----------\n",
    "    I_prev : np.ndarray\n",
    "        2D array of shape (n_rows, n_cols) representing\n",
    "        the previous light intensities from an eye.\n",
    "    I_curr : np.ndarray\n",
    "        2D array of shape (n_rows, n_cols) representing\n",
    "        the current light intensities from an eye.\n",
    "\n",
    "    Returns\n",
    "    -------\n",
    "    outputs: np.ndarray\n",
    "        2D array of shape (n_rows, n_cols - 1) representing\n",
    "        the horizontal optic flow.\n",
    "    \"\"\"\n",
    "\n",
    "    #######################################################\n",
    "    # TODO: calculate the horizontal optic flow using the\n",
    "    # HRC model\n",
    "    # Hint: For a 2D array I of shape (n_rows, n_cols),\n",
    "    # sliding_window_view(I, 2, axis=-1) will return\n",
    "    # a view (with shape=(n_rows, n_cols - 1, 2)) of the\n",
    "    # array I with a sliding window of size 2 along the\n",
    "    # along the horizontal axis (last axis).\n",
    "\n",
    "    outputs = ...\n",
    "\n",
    "    return outputs\n",
    "    #######################################################"
   ]
  },
  {
   "cell_type": "markdown",
   "metadata": {},
   "source": [
    "Let's verify the function with an example."
   ]
  },
  {
   "cell_type": "code",
   "execution_count": null,
   "metadata": {},
   "outputs": [],
   "source": [
    "fig, axs = plt.subplots(3, 2, figsize=(6, 5))\n",
    "I_prev = imgs[0]\n",
    "I_curr = np.roll(I_prev, 2, axis=1)\n",
    "axs[0, 0].imshow(I_prev, cmap=\"gray\", vmin=0, vmax=1)\n",
    "axs[1, 0].imshow(I_curr, cmap=\"gray\", vmin=0, vmax=1)\n",
    "axs[2, 0].imshow(get_horizontal_hrc_responses(I_prev, I_curr), cmap=\"bwr\", vmin=-1, vmax=1)\n",
    "\n",
    "I_prev = imgs[0]\n",
    "I_curr = np.roll(I_prev, -2, axis=1)\n",
    "axs[0, 1].imshow(I_prev, cmap=\"gray\", vmin=0, vmax=1)\n",
    "axs[1, 1].imshow(I_curr, cmap=\"gray\", vmin=0, vmax=1)\n",
    "im = axs[2, 1].imshow(get_horizontal_hrc_responses(I_prev, I_curr), cmap=\"bwr\", vmin=-1, vmax=1)\n",
    "\n",
    "for ax in axs.ravel():\n",
    "    ax.set_xticks([])\n",
    "    ax.set_yticks([])\n",
    "\n",
    "cax = fig.add_axes([0.92, 0.15, 0.02, 0.16])\n",
    "cbar = fig.colorbar(im, cax=cax, orientation='vertical')\n",
    "axs[0, 0].set_title(\"Rightward motion\")\n",
    "axs[0, 1].set_title(\"Leftward motion\")\n",
    "axs[0, 0].set_ylabel(\"Previous\")\n",
    "axs[1, 0].set_ylabel(\"Current\")\n",
    "axs[2, 0].set_ylabel(\"HRC response\")"
   ]
  },
  {
   "cell_type": "markdown",
   "metadata": {},
   "source": [
    "Finally, we can simulate how the fly detect the motion direction and turn accordingly:"
   ]
  },
  {
   "cell_type": "code",
   "execution_count": null,
   "metadata": {},
   "outputs": [],
   "source": [
    "contact_sensor_placements = [\n",
    "    f\"{leg}{segment}\"\n",
    "    for leg in [\"LF\", \"LM\", \"LH\", \"RF\", \"RM\", \"RH\"]\n",
    "    for segment in [\"Tibia\", \"Tarsus1\", \"Tarsus2\", \"Tarsus3\", \"Tarsus4\", \"Tarsus5\"]\n",
    "]\n",
    "\n",
    "fly = Fly(\n",
    "    spawn_pos=(0, 0, 0.2),\n",
    "    contact_sensor_placements=contact_sensor_placements,\n",
    "    enable_adhesion=True,\n",
    "    draw_adhesion=False,\n",
    "    enable_vision=True,\n",
    "    head_stabilization_model=None,\n",
    ")\n",
    "\n",
    "arena = Gratings(ang_speed=6)\n",
    "\n",
    "cam = Camera(\n",
    "    attachment_point=fly.model.worldbody,\n",
    "    camera_name=\"camera_top\",\n",
    "    targeted_fly_names=[fly.name],\n",
    ")\n",
    "\n",
    "sim = HybridTurningController(\n",
    "    fly=fly,\n",
    "    cameras=[cam],\n",
    "    arena=arena,\n",
    "    timestep=1e-4,\n",
    ")\n",
    "\n",
    "obs, info = sim.reset(seed=0)\n",
    "\n",
    "n_delays = 10  # time delay = n_delays * 1 / vision_refresh_rate\n",
    "I_hist = [crop_hex_to_rect(obs[\"vision\"])] * n_delays\n",
    "visual_inputs_hist = []\n",
    "n_steps_per_vision_refresh = int(\n",
    "    1 / fly.vision_refresh_rate / sim.timestep\n",
    ")\n",
    "mean_hrc_response_hist = []\n",
    "mean_hrc_responses_smooth = 0\n",
    "\n",
    "for i in trange(10000):\n",
    "    if i % n_steps_per_vision_refresh == 0:\n",
    "        I_prev = I_hist.pop(0)\n",
    "        I_curr = crop_hex_to_rect(obs[\"vision\"])\n",
    "        I_hist.append(I_curr)\n",
    "\n",
    "        mean_hrc_response = np.mean([\n",
    "            get_horizontal_hrc_responses(I_prev[i], I_curr[i])\n",
    "            for i in range(2)\n",
    "        ])\n",
    "\n",
    "        mean_hrc_responses_smooth = 0.9 * mean_hrc_responses_smooth + 0.1 * mean_hrc_response\n",
    "        mean_hrc_response_hist.append(mean_hrc_response)\n",
    "\n",
    "        ######################################################################\n",
    "        # TODO: Apply turning descending signals ([1.2, -0.8] or [-0.8, 1.2]\n",
    "        # depending on the sign of the mean_hrc_response) to make the fly turn\n",
    "        # in the direction of the grating's movement.\n",
    "        \n",
    "        action = ...\n",
    "        ######################################################################\n",
    "\n",
    "    obs = sim.step(action)[0]\n",
    "    render_res = sim.render()[0]\n",
    "\n",
    "    if render_res is not None:\n",
    "        visual_inputs_hist.append(obs[\"vision\"].copy())\n",
    "\n",
    "save_video_with_vision_insets(\n",
    "    sim,\n",
    "    cam,\n",
    "    output_dir / \"optomotor.mp4\",\n",
    "    visual_inputs_hist,\n",
    ")\n",
    "Video(output_dir / \"optomotor.mp4\")"
   ]
  },
  {
   "cell_type": "markdown",
   "metadata": {},
   "source": [
    "In this exercise, we have learned how to\n",
    "- Create arenas with moving objects as visual stimuli\n",
    "- Simulate the motion detection process in the visual systems of flies\n",
    "- Transform visual information into motor actions"
   ]
  }
 ],
 "metadata": {
  "kernelspec": {
   "display_name": "flygym",
   "language": "python",
   "name": "python3"
  },
  "language_info": {
   "codemirror_mode": {
    "name": "ipython",
    "version": 3
   },
   "file_extension": ".py",
   "mimetype": "text/x-python",
   "name": "python",
   "nbconvert_exporter": "python",
   "pygments_lexer": "ipython3",
   "version": "3.12.9"
  }
 },
 "nbformat": 4,
 "nbformat_minor": 2
}
